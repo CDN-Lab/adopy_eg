{
 "cells": [
  {
   "attachments": {},
   "cell_type": "markdown",
   "metadata": {
    "slideshow": {
     "slide_type": "slide"
    }
   },
   "source": [
    "# Delay discounting task\n"
   ]
  },
  {
   "attachments": {},
   "cell_type": "markdown",
   "metadata": {},
   "source": [
    "## 1. Initialization"
   ]
  },
  {
   "attachments": {},
   "cell_type": "markdown",
   "metadata": {
    "slideshow": {
     "slide_type": "slide"
    }
   },
   "source": [
    "### 1) Task: Delay discounting task\n",
    "\n",
    "- **Design variables**\n",
    "    - `t_ss` ($t_{SS}$): Delay for the SS (smaller, sooner) option\n",
    "    - `t_ll` ($t_{LL}$): Delay for the LL (larger, later) option\n",
    "        - The delay on SS option should be sooner than that of LL option ($t_{SS} < t_{LL}$).\n",
    "    - `r_ss` ($R_{SS}$): Reward value for the SS (smaller, sooner) option\n",
    "    - `r_ll` ($R_{LL}$): Reward value for the LL (larger, later) option\n",
    "        - The reward on SS option should be smaller than that of LL option ($R_{SS} < R_{LL}$).\n",
    "- **Possible responses**:\n",
    "    - `choice`: `0` (SS option), `1` (LL option)"
   ]
  },
  {
   "cell_type": "code",
   "execution_count": 44,
   "metadata": {
    "slideshow": {
     "slide_type": "subslide"
    }
   },
   "outputs": [],
   "source": [
    "from adopy.tasks.dd import TaskDD\n",
    "\n",
    "task = TaskDD()\n",
    "\n",
    "# 'Delay discounting task'\n",
    "# task.name\n",
    "\n",
    "# ['t_ss', 't_ll', 'r_ss', 'r_ll']\n",
    "# task.designs\n",
    "\n",
    "# ['choice']\n",
    "# task.responses\n"
   ]
  },
  {
   "attachments": {},
   "cell_type": "markdown",
   "metadata": {
    "slideshow": {
     "slide_type": "slide"
    }
   },
   "source": [
    "### 2) Model: Hyperbolic model (Mazur, 1987)\n",
    "\n",
    "$$\n",
    "\\begin{aligned}\n",
    "    \\text{discounting factor} \\; D(t) &= \\frac{1}{1 + kt} \\\\\n",
    "    V_{SS} &= R_{SS} \\cdot D(t_{SS}) \\\\\n",
    "    V_{LL} &= R_{LL} \\cdot D(t_{LL}) \\\\\n",
    "    P(LL \\, over \\, SS) &= \\frac{1}{1 + \\exp [- \\tau \\cdot \\gamma (V_{LL} - V_{SS})]}\n",
    "\\end{aligned}\n",
    "$$\n",
    "\n",
    "- **Model parameters**\n",
    "    - `k` ($k$): discounting rate parameter\n",
    "    - `tau` ($\\tau$): inverse temperature"
   ]
  },
  {
   "cell_type": "code",
   "execution_count": 25,
   "metadata": {
    "slideshow": {
     "slide_type": "subslide"
    }
   },
   "outputs": [],
   "source": [
    "from adopy.tasks.dd import ModelHyp\n",
    "\n",
    "model = ModelHyp()\n",
    "\n",
    "# 'Hyperbolic model for the DD task'\n",
    "# model.name\n",
    "\n",
    "# ['k', 'tau']\n",
    "# model.params\n"
   ]
  },
  {
   "attachments": {},
   "cell_type": "markdown",
   "metadata": {
    "slideshow": {
     "slide_type": "slide"
    }
   },
   "source": [
    "### 3) Grid definition"
   ]
  },
  {
   "attachments": {},
   "cell_type": "markdown",
   "metadata": {
    "slideshow": {
     "slide_type": "subslide"
    }
   },
   "source": [
    "#### Grid for design variables"
   ]
  },
  {
   "cell_type": "code",
   "execution_count": 28,
   "metadata": {
    "slideshow": {
     "slide_type": ""
    }
   },
   "outputs": [],
   "source": [
    "import numpy as np\n",
    "\n",
    "grid_design = {\n",
    "    # [Now]\n",
    "    't_ss': [0],\n",
    "    # [3 days, 5 days, 1 week, 2 weeks, 3 weeks,\n",
    "    #  1 month, 6 weeks, 2 months, 10 weeks, 3 months,\n",
    "    #  4 months, 5 months, 6 months, 1 year, 2 years,\n",
    "    #  3 years, 5 years, 10 years] in a weekly unit\n",
    "    't_ll': [0.43, 0.714, 1, 2, 3,\n",
    "             4.3, 6.44, 8.6, 10.8, 12.9,\n",
    "             17.2, 21.5, 26, 52, 104,\n",
    "             156, 260, 520],\n",
    "    # [$12.5, $25, ..., $775, $787.5]\n",
    "    'r_ss': np.arange(12.5, 800, 12.5),\n",
    "    # [$800]\n",
    "    'r_ll': [800]\n",
    "}"
   ]
  },
  {
   "attachments": {},
   "cell_type": "markdown",
   "metadata": {
    "slideshow": {
     "slide_type": "subslide"
    }
   },
   "source": [
    "#### Grid for model parameters"
   ]
  },
  {
   "cell_type": "code",
   "execution_count": 29,
   "metadata": {
    "slideshow": {
     "slide_type": ""
    }
   },
   "outputs": [],
   "source": [
    "grid_param = {\n",
    "    # 50 points on [10^-5, ..., 1] in a log scale\n",
    "    'k': np.logspace(-5, 0, 50, base=10),\n",
    "    # 10 points on (0, 5] in a linear scale\n",
    "    'tau': np.linspace(0, 5, 11)[1:]\n",
    "}"
   ]
  },
  {
   "attachments": {},
   "cell_type": "markdown",
   "metadata": {},
   "source": [
    "#### Grid for response variables"
   ]
  },
  {
   "cell_type": "code",
   "execution_count": 30,
   "metadata": {},
   "outputs": [],
   "source": [
    "grid_response = {\n",
    "    'choice': [0, 1]\n",
    "}"
   ]
  },
  {
   "attachments": {},
   "cell_type": "markdown",
   "metadata": {
    "slideshow": {
     "slide_type": "subslide"
    }
   },
   "source": [
    "### 4) Engine initialization"
   ]
  },
  {
   "cell_type": "code",
   "execution_count": 31,
   "metadata": {
    "slideshow": {
     "slide_type": ""
    }
   },
   "outputs": [],
   "source": [
    "from adopy import Engine\n",
    "\n",
    "engine = Engine(task, model, grid_design, grid_param, grid_response)"
   ]
  },
  {
   "cell_type": "code",
   "execution_count": 32,
   "metadata": {},
   "outputs": [
    {
     "data": {
      "text/plain": [
       "k      0.095512\n",
       "tau    2.750002\n",
       "Name: Posterior mean, dtype: float32"
      ]
     },
     "execution_count": 32,
     "metadata": {},
     "output_type": "execute_result"
    }
   ],
   "source": [
    "# Posterior means (k, tau)\n",
    "engine.post_mean"
   ]
  },
  {
   "cell_type": "code",
   "execution_count": 33,
   "metadata": {},
   "outputs": [
    {
     "data": {
      "text/plain": [
       "k      0.210282\n",
       "tau    1.436140\n",
       "Name: Posterior SD, dtype: float32"
      ]
     },
     "execution_count": 33,
     "metadata": {},
     "output_type": "execute_result"
    }
   ],
   "source": [
    "# Standard deviations for the posterior distribution (k, tau)\n",
    "engine.post_sd"
   ]
  },
  {
   "attachments": {},
   "cell_type": "markdown",
   "metadata": {
    "slideshow": {
     "slide_type": "slide"
    }
   },
   "source": [
    "## 2. Design comparison\n",
    "\n",
    "1. **ADO design**\n",
    "2. **Fixed design** (Green & Myerson, 2004)\n",
    "    - The staircase method runs 6 trials for each delay to estimate the discounting rate. While $t_{SS}$ is fixed to 0, it starts with $R_{SS}$ of \\\\$400 and $R_{LL}$ of \\\\$800. If a participant chooses the SS option, the staircase method increases $R_{SS}$ by 50\\%; if the participant chooses the LL option, it decreases $R_{SS}$ by 50\\%. After repeating this 5 times, it proceeds to another delay value.\n",
    "3. **Random design**"
   ]
  },
  {
   "cell_type": "code",
   "execution_count": 34,
   "metadata": {},
   "outputs": [],
   "source": [
    "N_TRIAL = 42"
   ]
  },
  {
   "cell_type": "code",
   "execution_count": 35,
   "metadata": {},
   "outputs": [],
   "source": [
    "# 1 week, 2 weeks, 1 month, 6 months, 1 year, 2 years, 10 years\n",
    "D_CAND = [1, 2, 4.3, 26, 52, 104, 520]\n",
    "\n",
    "# DELTA_R_SS for the staircase method:\n",
    "# The amount of changes on R_SS every 6 trials.\n",
    "DELTA_R_SS = [400, 200, 100, 50, 25, 12.5]"
   ]
  },
  {
   "attachments": {},
   "cell_type": "markdown",
   "metadata": {
    "slideshow": {
     "slide_type": "slide"
    }
   },
   "source": [
    "### Functions\n",
    "\n",
    "#### Simulate a response"
   ]
  },
  {
   "cell_type": "code",
   "execution_count": 36,
   "metadata": {},
   "outputs": [],
   "source": [
    "# True parameter values to simulate responses\n",
    "PARAM_TRUE = {'k': 0.12, 'tau': 1.5}"
   ]
  },
  {
   "cell_type": "code",
   "execution_count": 37,
   "metadata": {
    "slideshow": {
     "slide_type": ""
    }
   },
   "outputs": [],
   "source": [
    "from scipy.stats import bernoulli\n",
    "\n",
    "def get_simulated_response(design):\n",
    "    # Calculate the probability to choose a variable option\n",
    "    t_ss, t_ll, r_ss, r_ll = (\n",
    "        design['t_ss'], design['t_ll'],\n",
    "        design['r_ss'], design['r_ll']\n",
    "    )\n",
    "    k, tau = PARAM_TRUE['k'], PARAM_TRUE['tau']\n",
    "    \n",
    "    u_ss = r_ss * (1. / (1 + k * t_ss))\n",
    "    u_ll = r_ll * (1. / (1 + k * t_ll))\n",
    "    p_obs = 1. / (1 + np.exp(-tau * (u_ll - u_ss)))\n",
    "\n",
    "    # Randomly sample a binary choice response from Bernoulli distribution\n",
    "    return bernoulli.rvs(p_obs)"
   ]
  },
  {
   "attachments": {},
   "cell_type": "markdown",
   "metadata": {},
   "source": [
    "### Simulation"
   ]
  },
  {
   "cell_type": "code",
   "execution_count": 38,
   "metadata": {},
   "outputs": [],
   "source": [
    "import pandas as pd\n",
    "\n",
    "# Make an empty DataFrame to store data\n",
    "columns = ['design_type', 'trial', 'mean_k', 'mean_tau', 'sd_k', 'sd_tau']\n",
    "df_simul = pd.DataFrame(None, columns=columns)\n",
    "\n",
    "# Run simulations for three designs\n",
    "for design_type in ['ADO']:\n",
    "    # Reset the engine as an initial state\n",
    "    engine.reset()\n",
    "    \n",
    "    d_staircase = D_CAND\n",
    "    np.random.shuffle(d_staircase)\n",
    "    \n",
    "    for i in range(N_TRIAL):\n",
    "        # Design selection / optimization\n",
    "        if design_type == 'ADO':\n",
    "            design = engine.get_design('optimal')\n",
    "        elif design_type == 'staircase':\n",
    "            if i % 6 == 0:\n",
    "                design = {\n",
    "                    't_ss': 0,\n",
    "                    't_ll': d_staircase[i // 6],\n",
    "                    'r_ss': 400,\n",
    "                    'r_ll': 800\n",
    "                }\n",
    "            else:\n",
    "                if response == 1:\n",
    "                    design['r_ss'] += DELTA_R_SS[i % 6]\n",
    "                else:\n",
    "                    design['r_ss'] -= DELTA_R_SS[i % 6]\n",
    "        else:  # design_type == 'random'\n",
    "            design = engine.get_design('random')\n",
    "        \n",
    "        # Experiment\n",
    "        response = get_simulated_response(design)\n",
    "        \n",
    "        # Bayesian updating\n",
    "        engine.update(design, response)\n",
    "\n",
    "        # Save the information for updated posteriors\n",
    "        df_app = pd.DataFrame({\n",
    "            'design_type': design_type,\n",
    "            'trial': i + 1,\n",
    "            'mean_k': engine.post_mean[0],\n",
    "            'mean_tau': engine.post_mean[1],\n",
    "            'sd_k': engine.post_sd[0],\n",
    "            'sd_tau': engine.post_sd[1],\n",
    "        } ,index=[0])\n",
    "        df_simul = pd.concat([df_simul,df_app],ignore_index=True)"
   ]
  },
  {
   "cell_type": "code",
   "execution_count": 39,
   "metadata": {},
   "outputs": [
    {
     "name": "stdout",
     "output_type": "stream",
     "text": [
      "   design_type trial    mean_k  mean_tau          sd_k    sd_tau\n",
      "0          ADO     1  0.190489  2.750000  2.653216e-01  1.436140\n",
      "1          ADO     2  0.350037  2.750001  2.866642e-01  1.436141\n",
      "2          ADO     3  0.116145  2.750000  4.573661e-02  1.436141\n",
      "3          ADO     4  0.155464  2.749996  2.962155e-02  1.436142\n",
      "4          ADO     5  0.120679  2.749991  7.098342e-05  1.436145\n",
      "5          ADO     6  0.120679  2.890611  4.997383e-05  1.392493\n",
      "6          ADO     7  0.120679  3.010644  5.171951e-05  1.347268\n",
      "7          ADO     8  0.120678  1.670682  1.688633e-04  1.045673\n",
      "8          ADO     9  0.120678  1.778032  1.796530e-04  1.052688\n",
      "9          ADO    10  0.120678  1.877705  1.897170e-04  1.053510\n",
      "10         ADO    11  0.120678  1.968994  1.990489e-04  1.049917\n",
      "11         ADO    12  0.120678  2.071410  2.111789e-04  1.048038\n",
      "12         ADO    13  0.120678  2.165243  2.226351e-04  1.042863\n",
      "13         ADO    14  0.120677  2.250803  2.334439e-04  1.035637\n",
      "14         ADO    15  0.120677  2.328691  2.436488e-04  1.027279\n",
      "15         ADO    16  0.120677  2.399646  2.533012e-04  1.018416\n",
      "16         ADO    17  0.120677  2.464438  2.624535e-04  1.009453\n",
      "17         ADO    18  0.120658  1.795831  7.791739e-04  0.761142\n",
      "18         ADO    19  0.120678  1.837749  1.496837e-04  0.754552\n",
      "19         ADO    20  0.120678  1.896019  1.581635e-04  0.753560\n",
      "20         ADO    21  0.120678  1.950569  1.664985e-04  0.752197\n",
      "21         ADO    22  0.120678  2.001716  1.746924e-04  0.750629\n",
      "22         ADO    23  0.120678  2.049772  1.827503e-04  0.748962\n",
      "23         ADO    24  0.120678  2.095031  1.906788e-04  0.747259\n",
      "24         ADO    25  0.120678  2.137761  1.984841e-04  0.745557\n",
      "25         ADO    26  0.120678  2.178204  2.061730e-04  0.743877\n",
      "26         ADO    27  0.120677  2.216571  2.137517e-04  0.742230\n",
      "27         ADO    28  0.120679  2.269219  1.292282e-05  0.745380\n",
      "28         ADO    29  0.120679  2.320131  7.793700e-07  0.748177\n",
      "29         ADO    30  0.120679  1.933796  2.312241e-06  0.603070\n",
      "30         ADO    31  0.120679  1.967213  2.416953e-06  0.601920\n",
      "31         ADO    32  0.120679  1.999177  2.521974e-06  0.600825\n",
      "32         ADO    33  0.120679  2.029805  2.626892e-06  0.599786\n",
      "33         ADO    34  0.120679  2.059199  2.731972e-06  0.598800\n",
      "34         ADO    35  0.120679  2.087452  2.837153e-06  0.597866\n",
      "35         ADO    36  0.120679  1.728285  1.251627e-07  0.482336\n",
      "36         ADO    37  0.120679  1.755674  1.312888e-07  0.481488\n",
      "37         ADO    38  0.120679  1.782083  1.382050e-07  0.480675\n",
      "38         ADO    39  0.120679  1.807573  1.452417e-07  0.479901\n",
      "39         ADO    40  0.120679  1.832203  1.522152e-07  0.479170\n",
      "40         ADO    41  0.120679  1.856025  1.596698e-07  0.478485\n",
      "41         ADO    42  0.120679  1.879091  1.668912e-07  0.477846\n"
     ]
    }
   ],
   "source": [
    "print(df_simul.loc[df_simul['design_type']=='ADO'])"
   ]
  },
  {
   "attachments": {},
   "cell_type": "markdown",
   "metadata": {},
   "source": [
    "### Results"
   ]
  },
  {
   "cell_type": "code",
   "execution_count": 40,
   "metadata": {
    "slideshow": {
     "slide_type": "subslide"
    }
   },
   "outputs": [
    {
     "data": {
      "image/png": "[encoded data removed]",
      "text/plain": [
       "<Figure size 1000x400 with 2 Axes>"
      ]
     },
     "metadata": {
      "image/png": {
       "height": 393,
       "width": 835
      }
     },
     "output_type": "display_data"
    }
   ],
   "source": [
    "%matplotlib inline\n",
    "%config InlineBackend.figure_format = 'retina'\n",
    "from matplotlib import pyplot as plt\n",
    "\n",
    "fig, ax = plt.subplots(1, 2, figsize = [10, 4])\n",
    "\n",
    "# Draw black dotted lines for true parameters\n",
    "for i, param in enumerate(['k', 'tau']):\n",
    "    ax[i].axhline(PARAM_TRUE[param], color='black', linestyle=':')\n",
    "\n",
    "for i, design_type in enumerate(['ADO']):\n",
    "    df_cond = df_simul.loc[df_simul['design_type'] == design_type]\n",
    "    line_color = ['blue', 'green', 'red'][i]\n",
    "    ax = df_cond.plot(x='trial', y=['mean_k', 'mean_tau'], ax=ax,\n",
    "                      subplots=True, legend=False, color = line_color, alpha = 0.7)\n",
    "\n",
    "# Set titles and limits on y axes.\n",
    "ax[0].set_title('$k$ (Discounting rate)')\n",
    "ax[1].set_title('$\\\\tau$ (Inverse temperature)')\n",
    "\n",
    "ax[0].legend(['True value', 'ADO', 'Staircase', 'Random'])\n",
    "ax[1].legend(['True value', 'ADO', 'Staircase', 'Random'])\n",
    "    \n",
    "plt.show()"
   ]
  },
  {
   "attachments": {},
   "cell_type": "markdown",
   "metadata": {
    "slideshow": {
     "slide_type": "slide"
    }
   },
   "source": [
    "## References\n",
    "\n",
    "Green, L. & Myerson, J. (2004). A discounting framework for choice with delayed and probabilistic rewards. Psychological Bulletin, 130, 769–792.\n",
    "\n",
    "Mazur, J. E. (1987). An adjusting procedure for studying delayed reinforcement. Commons, ML.; Mazur, JE.; Nevin, JA, 55–73.\n"
   ]
  }
 ],
 "metadata": {
  "celltoolbar": "Slideshow",
  "kernelspec": {
   "display_name": "Python 3",
   "language": "python",
   "name": "python3"
  },
  "language_info": {
   "codemirror_mode": {
    "name": "ipython",
    "version": 3
   },
   "file_extension": ".py",
   "mimetype": "text/x-python",
   "name": "python",
   "nbconvert_exporter": "python",
   "pygments_lexer": "ipython3",
   "version": "3.9.16"
  }
 },
 "nbformat": 4,
 "nbformat_minor": 4
}
