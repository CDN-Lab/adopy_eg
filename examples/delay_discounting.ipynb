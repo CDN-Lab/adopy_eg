{
 "cells": [
  {
   "attachments": {},
   "cell_type": "markdown",
   "metadata": {
    "slideshow": {
     "slide_type": "slide"
    }
   },
   "source": [
    "# Delay discounting task\n",
    "\n",
    "<center>\n",
    "    <figure>\n",
    "        <img src=\"./images/dd-thumbnail.png\"\n",
    "             width=\"500px\">\n",
    "        <figcaption>Overview of the delay discounting task.</figcaption>\n",
    "    </figure>\n",
    "</center>"
   ]
  },
  {
   "attachments": {},
   "cell_type": "markdown",
   "metadata": {},
   "source": [
    "## 1. Initialization"
   ]
  },
  {
   "attachments": {},
   "cell_type": "markdown",
   "metadata": {
    "slideshow": {
     "slide_type": "slide"
    }
   },
   "source": [
    "### 1) Task: Delay discounting task\n",
    "\n",
    "- **Design variables**\n",
    "    - `t_ss` ($t_{SS}$): Delay for the SS (smaller, sooner) option\n",
    "    - `t_ll` ($t_{LL}$): Delay for the LL (larger, later) option\n",
    "        - The delay on SS option should be sooner than that of LL option ($t_{SS} < t_{LL}$).\n",
    "    - `r_ss` ($R_{SS}$): Reward value for the SS (smaller, sooner) option\n",
    "    - `r_ll` ($R_{LL}$): Reward value for the LL (larger, later) option\n",
    "        - The reward on SS option should be smaller than that of LL option ($R_{SS} < R_{LL}$).\n",
    "- **Possible responses**:\n",
    "    - `choice`: `0` (SS option), `1` (LL option)"
   ]
  },
  {
   "cell_type": "code",
   "execution_count": 12,
   "metadata": {
    "slideshow": {
     "slide_type": "subslide"
    }
   },
   "outputs": [],
   "source": [
    "from adopy.tasks.dd import TaskDD\n",
    "\n",
    "task = TaskDD()"
   ]
  },
  {
   "cell_type": "code",
   "execution_count": 13,
   "metadata": {},
   "outputs": [
    {
     "data": {
      "text/plain": [
       "'Delay discounting task'"
      ]
     },
     "execution_count": 13,
     "metadata": {},
     "output_type": "execute_result"
    }
   ],
   "source": [
    "task.name"
   ]
  },
  {
   "cell_type": "code",
   "execution_count": 14,
   "metadata": {},
   "outputs": [
    {
     "data": {
      "text/plain": [
       "['t_ss', 't_ll', 'r_ss', 'r_ll']"
      ]
     },
     "execution_count": 14,
     "metadata": {},
     "output_type": "execute_result"
    }
   ],
   "source": [
    "task.designs"
   ]
  },
  {
   "cell_type": "code",
   "execution_count": 15,
   "metadata": {},
   "outputs": [
    {
     "data": {
      "text/plain": [
       "['choice']"
      ]
     },
     "execution_count": 15,
     "metadata": {},
     "output_type": "execute_result"
    }
   ],
   "source": [
    "task.responses"
   ]
  },
  {
   "attachments": {},
   "cell_type": "markdown",
   "metadata": {
    "slideshow": {
     "slide_type": "slide"
    }
   },
   "source": [
    "### 2) Model: Hyperbolic model (Mazur, 1987)\n",
    "\n",
    "$$\n",
    "\\begin{aligned}\n",
    "    \\text{discounting factor} \\; D(t) &= \\frac{1}{1 + kt} \\\\\n",
    "    V_{SS} &= R_{SS} \\cdot D(t_{SS}) \\\\\n",
    "    V_{LL} &= R_{LL} \\cdot D(t_{LL}) \\\\\n",
    "    P(LL \\, over \\, SS) &= \\frac{1}{1 + \\exp [- \\tau \\cdot \\gamma (V_{LL} - V_{SS})]}\n",
    "\\end{aligned}\n",
    "$$\n",
    "\n",
    "- **Model parameters**\n",
    "    - `k` ($k$): discounting rate parameter\n",
    "    - `tau` ($\\tau$): inverse temperature"
   ]
  },
  {
   "cell_type": "code",
   "execution_count": 16,
   "metadata": {
    "slideshow": {
     "slide_type": "subslide"
    }
   },
   "outputs": [],
   "source": [
    "from adopy.tasks.dd import ModelHyp\n",
    "\n",
    "model = ModelHyp()"
   ]
  },
  {
   "cell_type": "code",
   "execution_count": 17,
   "metadata": {},
   "outputs": [
    {
     "data": {
      "text/plain": [
       "'Hyperbolic model for the DD task'"
      ]
     },
     "execution_count": 17,
     "metadata": {},
     "output_type": "execute_result"
    }
   ],
   "source": [
    "model.name"
   ]
  },
  {
   "cell_type": "code",
   "execution_count": 18,
   "metadata": {},
   "outputs": [
    {
     "data": {
      "text/plain": [
       "['k', 'tau']"
      ]
     },
     "execution_count": 18,
     "metadata": {},
     "output_type": "execute_result"
    }
   ],
   "source": [
    "model.params"
   ]
  },
  {
   "attachments": {},
   "cell_type": "markdown",
   "metadata": {
    "slideshow": {
     "slide_type": "slide"
    }
   },
   "source": [
    "### 3) Grid definition"
   ]
  },
  {
   "attachments": {},
   "cell_type": "markdown",
   "metadata": {
    "slideshow": {
     "slide_type": "subslide"
    }
   },
   "source": [
    "#### Grid for design variables"
   ]
  },
  {
   "cell_type": "code",
   "execution_count": 19,
   "metadata": {
    "slideshow": {
     "slide_type": ""
    }
   },
   "outputs": [],
   "source": [
    "import numpy as np\n",
    "\n",
    "grid_design = {\n",
    "    # [Now]\n",
    "    't_ss': [0],\n",
    "    # [3 days, 5 days, 1 week, 2 weeks, 3 weeks,\n",
    "    #  1 month, 6 weeks, 2 months, 10 weeks, 3 months,\n",
    "    #  4 months, 5 months, 6 months, 1 year, 2 years,\n",
    "    #  3 years, 5 years, 10 years] in a weekly unit\n",
    "    't_ll': [0.43, 0.714, 1, 2, 3,\n",
    "             4.3, 6.44, 8.6, 10.8, 12.9,\n",
    "             17.2, 21.5, 26, 52, 104,\n",
    "             156, 260, 520],\n",
    "    # [$12.5, $25, ..., $775, $787.5]\n",
    "    'r_ss': np.arange(12.5, 800, 12.5),\n",
    "    # [$800]\n",
    "    'r_ll': [800]\n",
    "}"
   ]
  },
  {
   "attachments": {},
   "cell_type": "markdown",
   "metadata": {
    "slideshow": {
     "slide_type": "subslide"
    }
   },
   "source": [
    "#### Grid for model parameters"
   ]
  },
  {
   "cell_type": "code",
   "execution_count": 20,
   "metadata": {
    "slideshow": {
     "slide_type": ""
    }
   },
   "outputs": [],
   "source": [
    "grid_param = {\n",
    "    # 50 points on [10^-5, ..., 1] in a log scale\n",
    "    'k': np.logspace(-5, 0, 50, base=10),\n",
    "    # 10 points on (0, 5] in a linear scale\n",
    "    'tau': np.linspace(0, 5, 11)[1:]\n",
    "}"
   ]
  },
  {
   "attachments": {},
   "cell_type": "markdown",
   "metadata": {},
   "source": [
    "#### Grid for response variables"
   ]
  },
  {
   "cell_type": "code",
   "execution_count": 21,
   "metadata": {},
   "outputs": [],
   "source": [
    "grid_response = {\n",
    "    'choice': [0, 1]\n",
    "}"
   ]
  },
  {
   "attachments": {},
   "cell_type": "markdown",
   "metadata": {
    "slideshow": {
     "slide_type": "subslide"
    }
   },
   "source": [
    "### 4) Engine initialization"
   ]
  },
  {
   "cell_type": "code",
   "execution_count": 22,
   "metadata": {
    "slideshow": {
     "slide_type": ""
    }
   },
   "outputs": [
    {
     "ename": "AttributeError",
     "evalue": "module 'numpy' has no attribute 'int'.\n`np.int` was a deprecated alias for the builtin `int`. To avoid this error in existing code, use `int` by itself. Doing this will not modify any behavior and is safe. When replacing `np.int`, you may wish to use e.g. `np.int64` or `np.int32` to specify the precision. If you wish to review your current use, check the release note link for additional information.\nThe aliases was originally deprecated in NumPy 1.20; for more details and guidance see the original release note at:\n    https://numpy.org/devdocs/release/1.20.0-notes.html#deprecations",
     "output_type": "error",
     "traceback": [
      "\u001b[0;31m---------------------------------------------------------------------------\u001b[0m",
      "\u001b[0;31mAttributeError\u001b[0m                            Traceback (most recent call last)",
      "Cell \u001b[0;32mIn[22], line 3\u001b[0m\n\u001b[1;32m      1\u001b[0m \u001b[39mfrom\u001b[39;00m \u001b[39madopy\u001b[39;00m \u001b[39mimport\u001b[39;00m Engine\n\u001b[0;32m----> 3\u001b[0m engine \u001b[39m=\u001b[39m Engine(task, model, grid_design, grid_param, grid_response)\n",
      "File \u001b[0;32m~/opt/anaconda3/envs/adopy/lib/python3.9/site-packages/adopy/base/_engine.py:41\u001b[0m, in \u001b[0;36mEngine.__init__\u001b[0;34m(self, task, model, grid_design, grid_param, grid_response, noise_ratio, dtype)\u001b[0m\n\u001b[1;32m     38\u001b[0m \u001b[39mself\u001b[39m\u001b[39m.\u001b[39m_dtype \u001b[39m=\u001b[39m dtype\n\u001b[1;32m     39\u001b[0m \u001b[39mself\u001b[39m\u001b[39m.\u001b[39m_noise_ratio \u001b[39m=\u001b[39m noise_ratio\n\u001b[0;32m---> 41\u001b[0m \u001b[39mself\u001b[39m\u001b[39m.\u001b[39m_g_d \u001b[39m=\u001b[39m g_d \u001b[39m=\u001b[39m make_grid_matrix(grid_design)[task\u001b[39m.\u001b[39mdesigns]\n\u001b[1;32m     42\u001b[0m \u001b[39mself\u001b[39m\u001b[39m.\u001b[39m_g_p \u001b[39m=\u001b[39m g_p \u001b[39m=\u001b[39m make_grid_matrix(grid_param)[model\u001b[39m.\u001b[39mparams]\n\u001b[1;32m     43\u001b[0m \u001b[39mself\u001b[39m\u001b[39m.\u001b[39m_g_y \u001b[39m=\u001b[39m g_y \u001b[39m=\u001b[39m make_grid_matrix(grid_response)[task\u001b[39m.\u001b[39mresponses]\n",
      "File \u001b[0;32m~/opt/anaconda3/envs/adopy/lib/python3.9/site-packages/adopy/functions/_grid.py:56\u001b[0m, in \u001b[0;36mmake_grid_matrix\u001b[0;34m(axes_dict, columns, dtype)\u001b[0m\n\u001b[1;32m     54\u001b[0m grids \u001b[39m=\u001b[39m []  \u001b[39m# type: List[np.ndarray]\u001b[39;00m\n\u001b[1;32m     55\u001b[0m \u001b[39mfor\u001b[39;00m i, (k, g) \u001b[39min\u001b[39;00m \u001b[39menumerate\u001b[39m(axes_dict\u001b[39m.\u001b[39mitems()):\n\u001b[0;32m---> 56\u001b[0m     dim_grid \u001b[39m=\u001b[39m np\u001b[39m.\u001b[39mappend(make_vector_shape(n_dims, i), n_d_total)\n\u001b[1;32m     58\u001b[0m     \u001b[39mif\u001b[39;00m \u001b[39misinstance\u001b[39m(k, \u001b[39mstr\u001b[39m):\n\u001b[1;32m     59\u001b[0m         labels\u001b[39m.\u001b[39mappend(k)\n",
      "File \u001b[0;32m~/opt/anaconda3/envs/adopy/lib/python3.9/site-packages/adopy/functions/_utils.py:67\u001b[0m, in \u001b[0;36mmake_vector_shape\u001b[0;34m(n, axis)\u001b[0m\n\u001b[1;32m     65\u001b[0m ret \u001b[39m=\u001b[39m np\u001b[39m.\u001b[39mones(n)\n\u001b[1;32m     66\u001b[0m ret[axis] \u001b[39m=\u001b[39m \u001b[39m-\u001b[39m\u001b[39m1\u001b[39m\n\u001b[0;32m---> 67\u001b[0m \u001b[39mreturn\u001b[39;00m ret\u001b[39m.\u001b[39mastype(np\u001b[39m.\u001b[39;49mint)\n",
      "File \u001b[0;32m~/opt/anaconda3/envs/adopy/lib/python3.9/site-packages/numpy/__init__.py:313\u001b[0m, in \u001b[0;36m__getattr__\u001b[0;34m(attr)\u001b[0m\n\u001b[1;32m    308\u001b[0m     warnings\u001b[39m.\u001b[39mwarn(\n\u001b[1;32m    309\u001b[0m         \u001b[39mf\u001b[39m\u001b[39m\"\u001b[39m\u001b[39mIn the future `np.\u001b[39m\u001b[39m{\u001b[39;00mattr\u001b[39m}\u001b[39;00m\u001b[39m` will be defined as the \u001b[39m\u001b[39m\"\u001b[39m\n\u001b[1;32m    310\u001b[0m         \u001b[39m\"\u001b[39m\u001b[39mcorresponding NumPy scalar.\u001b[39m\u001b[39m\"\u001b[39m, \u001b[39mFutureWarning\u001b[39;00m, stacklevel\u001b[39m=\u001b[39m\u001b[39m2\u001b[39m)\n\u001b[1;32m    312\u001b[0m \u001b[39mif\u001b[39;00m attr \u001b[39min\u001b[39;00m __former_attrs__:\n\u001b[0;32m--> 313\u001b[0m     \u001b[39mraise\u001b[39;00m \u001b[39mAttributeError\u001b[39;00m(__former_attrs__[attr])\n\u001b[1;32m    315\u001b[0m \u001b[39mif\u001b[39;00m attr \u001b[39m==\u001b[39m \u001b[39m'\u001b[39m\u001b[39mtesting\u001b[39m\u001b[39m'\u001b[39m:\n\u001b[1;32m    316\u001b[0m     \u001b[39mimport\u001b[39;00m \u001b[39mnumpy\u001b[39;00m\u001b[39m.\u001b[39;00m\u001b[39mtesting\u001b[39;00m \u001b[39mas\u001b[39;00m \u001b[39mtesting\u001b[39;00m\n",
      "\u001b[0;31mAttributeError\u001b[0m: module 'numpy' has no attribute 'int'.\n`np.int` was a deprecated alias for the builtin `int`. To avoid this error in existing code, use `int` by itself. Doing this will not modify any behavior and is safe. When replacing `np.int`, you may wish to use e.g. `np.int64` or `np.int32` to specify the precision. If you wish to review your current use, check the release note link for additional information.\nThe aliases was originally deprecated in NumPy 1.20; for more details and guidance see the original release note at:\n    https://numpy.org/devdocs/release/1.20.0-notes.html#deprecations"
     ]
    }
   ],
   "source": [
    "from adopy import Engine\n",
    "\n",
    "engine = Engine(task, model, grid_design, grid_param, grid_response)"
   ]
  },
  {
   "cell_type": "code",
   "execution_count": null,
   "metadata": {},
   "outputs": [],
   "source": [
    "# Posterior means (k, tau)\n",
    "engine.post_mean"
   ]
  },
  {
   "cell_type": "code",
   "execution_count": null,
   "metadata": {},
   "outputs": [],
   "source": [
    "# Standard deviations for the posterior distribution (k, tau)\n",
    "engine.post_sd"
   ]
  },
  {
   "attachments": {},
   "cell_type": "markdown",
   "metadata": {
    "slideshow": {
     "slide_type": "slide"
    }
   },
   "source": [
    "## 2. Design comparison\n",
    "\n",
    "1. **ADO design**\n",
    "2. **Fixed design** (Green & Myerson, 2004)\n",
    "    - The staircase method runs 6 trials for each delay to estimate the discounting rate. While $t_{SS}$ is fixed to 0, it starts with $R_{SS}$ of \\\\$400 and $R_{LL}$ of \\\\$800. If a participant chooses the SS option, the staircase method increases $R_{SS}$ by 50\\%; if the participant chooses the LL option, it decreases $R_{SS}$ by 50\\%. After repeating this 5 times, it proceeds to another delay value.\n",
    "3. **Random design**"
   ]
  },
  {
   "cell_type": "code",
   "execution_count": null,
   "metadata": {},
   "outputs": [],
   "source": [
    "N_TRIAL = 42"
   ]
  },
  {
   "cell_type": "code",
   "execution_count": null,
   "metadata": {},
   "outputs": [],
   "source": [
    "# 1 week, 2 weeks, 1 month, 6 months, 1 year, 2 years, 10 years\n",
    "D_CAND = [1, 2, 4.3, 26, 52, 104, 520]\n",
    "\n",
    "# DELTA_R_SS for the staircase method:\n",
    "# The amount of changes on R_SS every 6 trials.\n",
    "DELTA_R_SS = [400, 200, 100, 50, 25, 12.5]"
   ]
  },
  {
   "attachments": {},
   "cell_type": "markdown",
   "metadata": {
    "slideshow": {
     "slide_type": "slide"
    }
   },
   "source": [
    "### Functions\n",
    "\n",
    "#### Simulate a response"
   ]
  },
  {
   "cell_type": "code",
   "execution_count": null,
   "metadata": {},
   "outputs": [],
   "source": [
    "# True parameter values to simulate responses\n",
    "PARAM_TRUE = {'k': 0.12, 'tau': 1.5}"
   ]
  },
  {
   "cell_type": "code",
   "execution_count": null,
   "metadata": {
    "slideshow": {
     "slide_type": ""
    }
   },
   "outputs": [],
   "source": [
    "from scipy.stats import bernoulli\n",
    "\n",
    "def get_simulated_response(design):\n",
    "    # Calculate the probability to choose a variable option\n",
    "    t_ss, t_ll, r_ss, r_ll = (\n",
    "        design['t_ss'], design['t_ll'],\n",
    "        design['r_ss'], design['r_ll']\n",
    "    )\n",
    "    k, tau = PARAM_TRUE['k'], PARAM_TRUE['tau']\n",
    "    \n",
    "    u_ss = r_ss * (1. / (1 + k * t_ss))\n",
    "    u_ll = r_ll * (1. / (1 + k * t_ll))\n",
    "    p_obs = 1. / (1 + np.exp(-tau * (u_ll - u_ss)))\n",
    "\n",
    "    # Randomly sample a binary choice response from Bernoulli distribution\n",
    "    return bernoulli.rvs(p_obs)"
   ]
  },
  {
   "attachments": {},
   "cell_type": "markdown",
   "metadata": {},
   "source": [
    "### Simulation"
   ]
  },
  {
   "cell_type": "code",
   "execution_count": null,
   "metadata": {},
   "outputs": [],
   "source": [
    "import pandas as pd\n",
    "\n",
    "# Make an empty DataFrame to store data\n",
    "columns = ['design_type', 'trial', 'mean_k', 'mean_tau', 'sd_k', 'sd_tau']\n",
    "df_simul = pd.DataFrame(None, columns=columns)\n",
    "\n",
    "# Run simulations for three designs\n",
    "for design_type in ['ADO', 'staircase', 'random']:\n",
    "    # Reset the engine as an initial state\n",
    "    engine.reset()\n",
    "    \n",
    "    d_staircase = D_CAND\n",
    "    np.random.shuffle(d_staircase)\n",
    "    \n",
    "    for i in range(N_TRIAL):\n",
    "        # Design selection / optimization\n",
    "        if design_type == 'ADO':\n",
    "            design = engine.get_design('optimal')\n",
    "        elif design_type == 'staircase':\n",
    "            if i % 6 == 0:\n",
    "                design = {\n",
    "                    't_ss': 0,\n",
    "                    't_ll': d_staircase[i // 6],\n",
    "                    'r_ss': 400,\n",
    "                    'r_ll': 800\n",
    "                }\n",
    "            else:\n",
    "                if response == 1:\n",
    "                    design['r_ss'] += DELTA_R_SS[i % 6]\n",
    "                else:\n",
    "                    design['r_ss'] -= DELTA_R_SS[i % 6]\n",
    "        else:  # design_type == 'random'\n",
    "            design = engine.get_design('random')\n",
    "        \n",
    "        # Experiment\n",
    "        response = get_simulated_response(design)\n",
    "        \n",
    "        # Bayesian updating\n",
    "        engine.update(design, response)\n",
    "\n",
    "        # Save the information for updated posteriors\n",
    "        df_app = pd.DataFrame({\n",
    "            'design_type': design_type,\n",
    "            'trial': i + 1,\n",
    "            'mean_k': engine.post_mean[0],\n",
    "            'mean_tau': engine.post_mean[1],\n",
    "            'sd_k': engine.post_sd[0],\n",
    "            'sd_tau': engine.post_sd[1],\n",
    "        } ,index=[0])\n",
    "        df_simul = pd.concat([df_simul,df_app],ignore_index=True)"
   ]
  },
  {
   "cell_type": "code",
   "execution_count": null,
   "metadata": {},
   "outputs": [],
   "source": [
    "print(df_simul.loc[df_simul['design_type']=='ADO'])"
   ]
  },
  {
   "attachments": {},
   "cell_type": "markdown",
   "metadata": {},
   "source": [
    "### Results"
   ]
  },
  {
   "cell_type": "code",
   "execution_count": null,
   "metadata": {
    "slideshow": {
     "slide_type": "subslide"
    }
   },
   "outputs": [],
   "source": [
    "%matplotlib inline\n",
    "%config InlineBackend.figure_format = 'retina'\n",
    "from matplotlib import pyplot as plt\n",
    "\n",
    "fig, ax = plt.subplots(1, 2, figsize = [10, 4])\n",
    "\n",
    "# Draw black dotted lines for true parameters\n",
    "for i, param in enumerate(['k', 'tau']):\n",
    "    ax[i].axhline(PARAM_TRUE[param], color='black', linestyle=':')\n",
    "\n",
    "for i, design_type in enumerate(['ADO', 'staircase', 'random']):\n",
    "    df_cond = df_simul.loc[df_simul['design_type'] == design_type]\n",
    "    line_color = ['blue', 'green', 'red'][i]\n",
    "    ax = df_cond.plot(x='trial', y=['mean_k', 'mean_tau'], ax=ax,\n",
    "                      subplots=True, legend=False, color = line_color, alpha = 0.7)\n",
    "\n",
    "# Set titles and limits on y axes.\n",
    "ax[0].set_title('$k$ (Discounting rate)')\n",
    "ax[1].set_title('$\\\\tau$ (Inverse temperature)')\n",
    "\n",
    "ax[0].legend(['True value', 'ADO', 'Staircase', 'Random'])\n",
    "ax[1].legend(['True value', 'ADO', 'Staircase', 'Random'])\n",
    "    \n",
    "plt.show()"
   ]
  },
  {
   "attachments": {},
   "cell_type": "markdown",
   "metadata": {
    "slideshow": {
     "slide_type": "slide"
    }
   },
   "source": [
    "## References\n",
    "\n",
    "Green, L. & Myerson, J. (2004). A discounting framework for choice with delayed and probabilistic rewards. Psychological Bulletin, 130, 769–792.\n",
    "\n",
    "Mazur, J. E. (1987). An adjusting procedure for studying delayed reinforcement. Commons, ML.; Mazur, JE.; Nevin, JA, 55–73.\n"
   ]
  }
 ],
 "metadata": {
  "celltoolbar": "Slideshow",
  "kernelspec": {
   "display_name": "Python 3",
   "language": "python",
   "name": "python3"
  },
  "language_info": {
   "codemirror_mode": {
    "name": "ipython",
    "version": 3
   },
   "file_extension": ".py",
   "mimetype": "text/x-python",
   "name": "python",
   "nbconvert_exporter": "python",
   "pygments_lexer": "ipython3",
   "version": "3.9.16"
  }
 },
 "nbformat": 4,
 "nbformat_minor": 4
}
